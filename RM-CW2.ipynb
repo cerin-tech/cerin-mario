{
 "cells": [
  {
   "cell_type": "code",
   "execution_count": 30,
   "id": "c4ce13b3-daa5-49c2-a0e8-3f567298ec77",
   "metadata": {},
   "outputs": [],
   "source": [
    "# Import necessary libraries for data handling, visualization, and scaling\n",
    "import pandas as pd\n",
    "import numpy as np\n",
    "import matplotlib.pyplot as plt\n",
    "import seaborn as sns\n",
    "import plotly.express as px\n",
    "import plotly.graph_objects as go\n",
    "from sklearn.preprocessing import LabelEncoder\n",
    "from sklearn.preprocessing import MinMaxScaler"
   ]
  },
  {
   "cell_type": "code",
   "execution_count": 31,
   "id": "b32c509c-16e2-40ab-a530-839f4efbd04c",
   "metadata": {},
   "outputs": [],
   "source": [
    "# Load the original dataset\n",
    "df = pd.read_csv(\"Results_21Mar2022.csv\")\n",
    "# STEP 1: Min-Max Scaling on key environmental variables\n",
    "# Min-Max Scaling \n",
    "scaler = MinMaxScaler()\n",
    "# Create a copy of the dataset to apply scaling\n",
    "df_scaled = df.copy()\n",
    "# Apply Min-Max Scaling to normalize selected environmental variables to [0, 1] range\n",
    "df_scaled[[\"mean_ghgs\", \"mean_land\", \"mean_watscar\", \"mean_eut\"]] = scaler.fit_transform(\n",
    "    df[[\"mean_ghgs\", \"mean_land\", \"mean_watscar\", \"mean_eut\"]])"
   ]
  },
  {
   "cell_type": "code",
   "execution_count": 32,
   "id": "3e8a9b29-dfea-46ad-a201-b4cd7c8e7864",
   "metadata": {},
   "outputs": [
    {
     "name": "stdout",
     "output_type": "stream",
     "text": [
      "count    12000.000000\n",
      "mean       974.222937\n",
      "std        324.919529\n",
      "min        537.591798\n",
      "25%        786.104179\n",
      "50%        895.292420\n",
      "75%       1047.905579\n",
      "max       3325.114571\n",
      "Name: mean_watuse, dtype: float64\n"
     ]
    }
   ],
   "source": [
    "print(df[df['diet_group'] == 'meat100']['mean_watuse'].describe())"
   ]
  },
  {
   "cell_type": "code",
   "execution_count": 33,
   "id": "349d15dc-73d9-4cde-a904-6f324013b689",
   "metadata": {},
   "outputs": [],
   "source": [
    "# STEP 2: Re-import and clean data\n",
    "# Read data\n",
    "df = pd.read_csv(\"Results_21Mar2022.csv\")"
   ]
  },
  {
   "cell_type": "code",
   "execution_count": 34,
   "id": "d717f204-19f9-4ea2-9dcb-ead09edef39d",
   "metadata": {},
   "outputs": [],
   "source": [
    "# Filter the columns needed for analysis\n",
    "cols_to_scale = [\"mean_ghgs\", \"mean_land\", \"mean_watscar\", \"mean_eut\"]\n",
    "other_cols = [\"diet_group\", \"sex\"]\n",
    "df_filtered = df[other_cols + cols_to_scale].dropna()\n",
    "# Normalization (Min-Max Scaling)\n",
    "scaler = MinMaxScaler()\n",
    "df_scaled = df_filtered.copy()\n",
    "df_scaled[cols_to_scale] = scaler.fit_transform(df_filtered[cols_to_scale])"
   ]
  },
  {
   "cell_type": "code",
   "execution_count": 35,
   "id": "53ac8219-4305-4307-b684-d7cfe90fbe7f",
   "metadata": {},
   "outputs": [
    {
     "data": {
      "application/vnd.plotly.v1+json": {
       "config": {
        "plotlyServerURL": "https://plot.ly"
       },
       "data": [
        {
         "branchvalues": "total",
         "customdata": [
          [
           4.902947125081
          ],
          [
           4.942664483793
          ],
          [
           4.927040172677
          ],
          [
           4.9443203337909996
          ],
          [
           5.103822518681
          ],
          [
           4.990762890714
          ],
          [
           5.659688871225999
          ],
          [
           5.327205952942
          ],
          [
           5.2018026093489995
          ],
          [
           5.142355789303
          ],
          [
           5.153826680613
          ],
          [
           5.303953641929
          ],
          [
           6.913346378262
          ],
          [
           7.135581666559999
          ],
          [
           7.484151329541001
          ],
          [
           7.5861156615219985
          ],
          [
           7.541230540435
          ],
          [
           7.611196494765
          ],
          [
           7.387087141033
          ],
          [
           7.594977983203
          ],
          [
           7.7815126207650005
          ],
          [
           7.752900129514
          ],
          [
           7.835827297245
          ],
          [
           8.023873929639
          ],
          [
           10.191268743064
          ],
          [
           10.421548409817
          ],
          [
           11.242124224869
          ],
          [
           11.574401589788
          ],
          [
           11.520473391645
          ],
          [
           11.990853394399
          ],
          [
           12.104782205644998
          ],
          [
           11.178862348943
          ],
          [
           11.493864090237997
          ],
          [
           11.678040095755998
          ],
          [
           11.450175664626
          ],
          [
           12.263987428482
          ],
          [
           5.38615768943
          ],
          [
           5.489000437973
          ],
          [
           5.604987137323
          ],
          [
           5.743810547210001
          ],
          [
           5.861660341356
          ],
          [
           5.8360413618399996
          ],
          [
           5.8427412208459995
          ],
          [
           5.9230542061469995
          ],
          [
           5.8985248148350005
          ],
          [
           5.932798636723
          ],
          [
           5.921724590470999
          ],
          [
           6.126166528464
          ],
          [
           2.383216383473
          ],
          [
           2.540393020847
          ],
          [
           2.657602421868
          ],
          [
           2.520496825096
          ],
          [
           2.633644804226
          ],
          [
           2.839875594178
          ],
          [
           2.84322830886
          ],
          [
           2.698172418304
          ],
          [
           2.694366019617
          ],
          [
           2.524737409503
          ],
          [
           2.427010725764
          ],
          [
           2.587986805198
          ],
          [
           4.319955997758
          ],
          [
           4.367724164195001
          ],
          [
           4.386548303825
          ],
          [
           4.370471444328
          ],
          [
           4.472485087662
          ],
          [
           4.4734452564780005
          ],
          [
           4.899777121339
          ],
          [
           4.807758162692999
          ],
          [
           4.610379492209
          ],
          [
           4.455095310198001
          ],
          [
           4.44484358452
          ],
          [
           4.612451445292001
          ],
          [
           6.717551849858523
          ],
          [
           6.866362983715271
          ],
          [
           7.283092859876983
          ],
          [
           7.468981386400732
          ],
          [
           7.457958621420063
          ],
          [
           7.650713720864949
          ],
          [
           7.727854992390682
          ],
          [
           7.367620367636513
          ],
          [
           7.511253335113161
          ],
          [
           7.585464647031161
          ],
          [
           7.514285966892948
          ],
          [
           7.924837823460515
          ],
          [
           7.25488763928683
          ],
          [
           7.126103411078163
          ],
          [
           7.399297941353999
          ],
          [
           7.527808615222374
          ],
          [
           7.4861602002813
          ],
          [
           7.789878789022498
          ]
         ],
         "domain": {
          "x": [
           0,
           1
          ],
          "y": [
           0,
           1
          ]
         },
         "hovertemplate": "<b>%{parent}</b><br>Diet Group: %{label}<br>GHG Emissions: <b>%{color:.2f} kg CO₂e</b>",
         "ids": [
          "20-29/female/fish",
          "30-39/female/fish",
          "40-49/female/fish",
          "50-59/female/fish",
          "60-69/female/fish",
          "70-79/female/fish",
          "20-29/male/fish",
          "30-39/male/fish",
          "40-49/male/fish",
          "50-59/male/fish",
          "60-69/male/fish",
          "70-79/male/fish",
          "20-29/female/meat",
          "30-39/female/meat",
          "40-49/female/meat",
          "50-59/female/meat",
          "60-69/female/meat",
          "70-79/female/meat",
          "20-29/male/meat",
          "30-39/male/meat",
          "40-49/male/meat",
          "50-59/male/meat",
          "60-69/male/meat",
          "70-79/male/meat",
          "20-29/female/meat100",
          "30-39/female/meat100",
          "40-49/female/meat100",
          "50-59/female/meat100",
          "60-69/female/meat100",
          "70-79/female/meat100",
          "20-29/male/meat100",
          "30-39/male/meat100",
          "40-49/male/meat100",
          "50-59/male/meat100",
          "60-69/male/meat100",
          "70-79/male/meat100",
          "20-29/female/meat50",
          "30-39/female/meat50",
          "40-49/female/meat50",
          "50-59/female/meat50",
          "60-69/female/meat50",
          "70-79/female/meat50",
          "20-29/male/meat50",
          "30-39/male/meat50",
          "40-49/male/meat50",
          "50-59/male/meat50",
          "60-69/male/meat50",
          "70-79/male/meat50",
          "20-29/female/vegan",
          "30-39/female/vegan",
          "40-49/female/vegan",
          "50-59/female/vegan",
          "60-69/female/vegan",
          "70-79/female/vegan",
          "20-29/male/vegan",
          "30-39/male/vegan",
          "40-49/male/vegan",
          "50-59/male/vegan",
          "60-69/male/vegan",
          "70-79/male/vegan",
          "20-29/female/veggie",
          "30-39/female/veggie",
          "40-49/female/veggie",
          "50-59/female/veggie",
          "60-69/female/veggie",
          "70-79/female/veggie",
          "20-29/male/veggie",
          "30-39/male/veggie",
          "40-49/male/veggie",
          "50-59/male/veggie",
          "60-69/male/veggie",
          "70-79/male/veggie",
          "20-29/female",
          "30-39/female",
          "40-49/female",
          "50-59/female",
          "60-69/female",
          "70-79/female",
          "20-29/male",
          "30-39/male",
          "40-49/male",
          "50-59/male",
          "60-69/male",
          "70-79/male",
          "20-29",
          "30-39",
          "40-49",
          "50-59",
          "60-69",
          "70-79"
         ],
         "insidetextfont": {
          "size": 10
         },
         "labels": [
          "fish",
          "fish",
          "fish",
          "fish",
          "fish",
          "fish",
          "fish",
          "fish",
          "fish",
          "fish",
          "fish",
          "fish",
          "meat",
          "meat",
          "meat",
          "meat",
          "meat",
          "meat",
          "meat",
          "meat",
          "meat",
          "meat",
          "meat",
          "meat",
          "meat100",
          "meat100",
          "meat100",
          "meat100",
          "meat100",
          "meat100",
          "meat100",
          "meat100",
          "meat100",
          "meat100",
          "meat100",
          "meat100",
          "meat50",
          "meat50",
          "meat50",
          "meat50",
          "meat50",
          "meat50",
          "meat50",
          "meat50",
          "meat50",
          "meat50",
          "meat50",
          "meat50",
          "vegan",
          "vegan",
          "vegan",
          "vegan",
          "vegan",
          "vegan",
          "vegan",
          "vegan",
          "vegan",
          "vegan",
          "vegan",
          "vegan",
          "veggie",
          "veggie",
          "veggie",
          "veggie",
          "veggie",
          "veggie",
          "veggie",
          "veggie",
          "veggie",
          "veggie",
          "veggie",
          "veggie",
          "female",
          "female",
          "female",
          "female",
          "female",
          "female",
          "male",
          "male",
          "male",
          "male",
          "male",
          "male",
          "20-29",
          "30-39",
          "40-49",
          "50-59",
          "60-69",
          "70-79"
         ],
         "level": "1e82e4",
         "marker": {
          "coloraxis": "coloraxis",
          "colors": [
           4.902947125081,
           4.942664483793,
           4.927040172677,
           4.9443203337909996,
           5.103822518681,
           4.990762890714,
           5.659688871225999,
           5.327205952942,
           5.2018026093489995,
           5.142355789303,
           5.153826680613,
           5.303953641929,
           6.913346378262,
           7.135581666559999,
           7.484151329541001,
           7.5861156615219985,
           7.541230540435,
           7.611196494765,
           7.387087141033,
           7.594977983203,
           7.7815126207650005,
           7.752900129514,
           7.835827297245,
           8.023873929639,
           10.191268743064,
           10.421548409817,
           11.242124224869,
           11.574401589788,
           11.520473391645,
           11.990853394399,
           12.104782205644998,
           11.178862348943,
           11.493864090237997,
           11.678040095755998,
           11.450175664626,
           12.263987428482,
           5.38615768943,
           5.489000437973,
           5.604987137323,
           5.743810547210001,
           5.861660341356,
           5.8360413618399996,
           5.8427412208459995,
           5.9230542061469995,
           5.8985248148350005,
           5.932798636723,
           5.921724590470999,
           6.126166528464,
           2.383216383473,
           2.540393020847,
           2.657602421868,
           2.520496825096,
           2.633644804226,
           2.839875594178,
           2.84322830886,
           2.698172418304,
           2.694366019617,
           2.524737409503,
           2.427010725764,
           2.587986805198,
           4.319955997758,
           4.367724164195001,
           4.386548303825,
           4.370471444328,
           4.472485087662,
           4.4734452564780005,
           4.899777121339,
           4.807758162692999,
           4.610379492209,
           4.455095310198001,
           4.44484358452,
           4.612451445292001,
           6.717551849858523,
           6.866362983715271,
           7.283092859876983,
           7.468981386400732,
           7.457958621420063,
           7.650713720864949,
           7.727854992390682,
           7.367620367636513,
           7.511253335113161,
           7.585464647031161,
           7.514285966892948,
           7.924837823460515,
           7.25488763928683,
           7.126103411078163,
           7.399297941353999,
           7.527808615222374,
           7.4861602002813,
           7.789878789022498
          ]
         },
         "name": "",
         "parents": [
          "20-29/female",
          "30-39/female",
          "40-49/female",
          "50-59/female",
          "60-69/female",
          "70-79/female",
          "20-29/male",
          "30-39/male",
          "40-49/male",
          "50-59/male",
          "60-69/male",
          "70-79/male",
          "20-29/female",
          "30-39/female",
          "40-49/female",
          "50-59/female",
          "60-69/female",
          "70-79/female",
          "20-29/male",
          "30-39/male",
          "40-49/male",
          "50-59/male",
          "60-69/male",
          "70-79/male",
          "20-29/female",
          "30-39/female",
          "40-49/female",
          "50-59/female",
          "60-69/female",
          "70-79/female",
          "20-29/male",
          "30-39/male",
          "40-49/male",
          "50-59/male",
          "60-69/male",
          "70-79/male",
          "20-29/female",
          "30-39/female",
          "40-49/female",
          "50-59/female",
          "60-69/female",
          "70-79/female",
          "20-29/male",
          "30-39/male",
          "40-49/male",
          "50-59/male",
          "60-69/male",
          "70-79/male",
          "20-29/female",
          "30-39/female",
          "40-49/female",
          "50-59/female",
          "60-69/female",
          "70-79/female",
          "20-29/male",
          "30-39/male",
          "40-49/male",
          "50-59/male",
          "60-69/male",
          "70-79/male",
          "20-29/female",
          "30-39/female",
          "40-49/female",
          "50-59/female",
          "60-69/female",
          "70-79/female",
          "20-29/male",
          "30-39/male",
          "40-49/male",
          "50-59/male",
          "60-69/male",
          "70-79/male",
          "20-29",
          "30-39",
          "40-49",
          "50-59",
          "60-69",
          "70-79",
          "20-29",
          "30-39",
          "40-49",
          "50-59",
          "60-69",
          "70-79",
          "",
          "",
          "",
          "",
          "",
          ""
         ],
         "textposition": "middle center",
         "texttemplate": "<b>%{label}</b>",
         "type": "treemap",
         "values": [
          4.902947125081,
          4.942664483793,
          4.927040172677,
          4.9443203337909996,
          5.103822518681,
          4.990762890714,
          5.659688871226,
          5.327205952942,
          5.2018026093489995,
          5.142355789303,
          5.153826680613,
          5.303953641929,
          6.913346378262,
          7.135581666559999,
          7.4841513295410005,
          7.586115661521999,
          7.541230540435,
          7.611196494765,
          7.387087141033,
          7.594977983203,
          7.7815126207650005,
          7.752900129514,
          7.835827297245,
          8.023873929639,
          10.191268743064,
          10.421548409817,
          11.242124224869,
          11.574401589788,
          11.520473391645,
          11.990853394399,
          12.104782205645,
          11.178862348943,
          11.493864090237999,
          11.678040095756,
          11.450175664626,
          12.263987428482,
          5.38615768943,
          5.489000437973,
          5.604987137323,
          5.74381054721,
          5.861660341356,
          5.8360413618399996,
          5.842741220846,
          5.9230542061469995,
          5.8985248148350005,
          5.932798636723,
          5.921724590470999,
          6.126166528464,
          2.383216383473,
          2.540393020847,
          2.657602421868,
          2.520496825096,
          2.633644804226,
          2.839875594178,
          2.84322830886,
          2.698172418304,
          2.694366019617,
          2.524737409503,
          2.427010725764,
          2.587986805198,
          4.319955997758,
          4.367724164195001,
          4.386548303825,
          4.370471444328,
          4.472485087662,
          4.4734452564780005,
          4.899777121339,
          4.807758162692999,
          4.610379492209,
          4.455095310198001,
          4.44484358452,
          4.612451445292001,
          34.096892317068004,
          34.896912183185,
          36.302453590103,
          36.739616401735,
          37.133316684005,
          37.742174992374,
          38.737304868948996,
          37.530031072232,
          37.680449647013,
          37.485927370997004,
          37.233408543239,
          38.918419779004,
          72.83419718601701,
          72.426943255417,
          73.982903237116,
          74.225543772732,
          74.366725227244,
          76.660594771378
         ]
        }
       ],
       "layout": {
        "coloraxis": {
         "colorbar": {
          "title": {
           "text": "GHG (kg CO₂e)"
          },
          "x": 1,
          "y": 0.5
         },
         "colorscale": [
          [
           0,
           "rgb(255,245,240)"
          ],
          [
           0.125,
           "rgb(254,224,210)"
          ],
          [
           0.25,
           "rgb(252,187,161)"
          ],
          [
           0.375,
           "rgb(252,146,114)"
          ],
          [
           0.5,
           "rgb(251,106,74)"
          ],
          [
           0.625,
           "rgb(239,59,44)"
          ],
          [
           0.75,
           "rgb(203,24,29)"
          ],
          [
           0.875,
           "rgb(165,15,21)"
          ],
          [
           1,
           "rgb(103,0,13)"
          ]
         ]
        },
        "height": 800,
        "legend": {
         "tracegroupgap": 0
        },
        "margin": {
         "b": 50,
         "l": 50,
         "r": 120,
         "t": 90
        },
        "template": {
         "data": {
          "bar": [
           {
            "error_x": {
             "color": "#2a3f5f"
            },
            "error_y": {
             "color": "#2a3f5f"
            },
            "marker": {
             "line": {
              "color": "#E5ECF6",
              "width": 0.5
             },
             "pattern": {
              "fillmode": "overlay",
              "size": 10,
              "solidity": 0.2
             }
            },
            "type": "bar"
           }
          ],
          "barpolar": [
           {
            "marker": {
             "line": {
              "color": "#E5ECF6",
              "width": 0.5
             },
             "pattern": {
              "fillmode": "overlay",
              "size": 10,
              "solidity": 0.2
             }
            },
            "type": "barpolar"
           }
          ],
          "carpet": [
           {
            "aaxis": {
             "endlinecolor": "#2a3f5f",
             "gridcolor": "white",
             "linecolor": "white",
             "minorgridcolor": "white",
             "startlinecolor": "#2a3f5f"
            },
            "baxis": {
             "endlinecolor": "#2a3f5f",
             "gridcolor": "white",
             "linecolor": "white",
             "minorgridcolor": "white",
             "startlinecolor": "#2a3f5f"
            },
            "type": "carpet"
           }
          ],
          "choropleth": [
           {
            "colorbar": {
             "outlinewidth": 0,
             "ticks": ""
            },
            "type": "choropleth"
           }
          ],
          "contour": [
           {
            "colorbar": {
             "outlinewidth": 0,
             "ticks": ""
            },
            "colorscale": [
             [
              0,
              "#0d0887"
             ],
             [
              0.1111111111111111,
              "#46039f"
             ],
             [
              0.2222222222222222,
              "#7201a8"
             ],
             [
              0.3333333333333333,
              "#9c179e"
             ],
             [
              0.4444444444444444,
              "#bd3786"
             ],
             [
              0.5555555555555556,
              "#d8576b"
             ],
             [
              0.6666666666666666,
              "#ed7953"
             ],
             [
              0.7777777777777778,
              "#fb9f3a"
             ],
             [
              0.8888888888888888,
              "#fdca26"
             ],
             [
              1,
              "#f0f921"
             ]
            ],
            "type": "contour"
           }
          ],
          "contourcarpet": [
           {
            "colorbar": {
             "outlinewidth": 0,
             "ticks": ""
            },
            "type": "contourcarpet"
           }
          ],
          "heatmap": [
           {
            "colorbar": {
             "outlinewidth": 0,
             "ticks": ""
            },
            "colorscale": [
             [
              0,
              "#0d0887"
             ],
             [
              0.1111111111111111,
              "#46039f"
             ],
             [
              0.2222222222222222,
              "#7201a8"
             ],
             [
              0.3333333333333333,
              "#9c179e"
             ],
             [
              0.4444444444444444,
              "#bd3786"
             ],
             [
              0.5555555555555556,
              "#d8576b"
             ],
             [
              0.6666666666666666,
              "#ed7953"
             ],
             [
              0.7777777777777778,
              "#fb9f3a"
             ],
             [
              0.8888888888888888,
              "#fdca26"
             ],
             [
              1,
              "#f0f921"
             ]
            ],
            "type": "heatmap"
           }
          ],
          "heatmapgl": [
           {
            "colorbar": {
             "outlinewidth": 0,
             "ticks": ""
            },
            "colorscale": [
             [
              0,
              "#0d0887"
             ],
             [
              0.1111111111111111,
              "#46039f"
             ],
             [
              0.2222222222222222,
              "#7201a8"
             ],
             [
              0.3333333333333333,
              "#9c179e"
             ],
             [
              0.4444444444444444,
              "#bd3786"
             ],
             [
              0.5555555555555556,
              "#d8576b"
             ],
             [
              0.6666666666666666,
              "#ed7953"
             ],
             [
              0.7777777777777778,
              "#fb9f3a"
             ],
             [
              0.8888888888888888,
              "#fdca26"
             ],
             [
              1,
              "#f0f921"
             ]
            ],
            "type": "heatmapgl"
           }
          ],
          "histogram": [
           {
            "marker": {
             "pattern": {
              "fillmode": "overlay",
              "size": 10,
              "solidity": 0.2
             }
            },
            "type": "histogram"
           }
          ],
          "histogram2d": [
           {
            "colorbar": {
             "outlinewidth": 0,
             "ticks": ""
            },
            "colorscale": [
             [
              0,
              "#0d0887"
             ],
             [
              0.1111111111111111,
              "#46039f"
             ],
             [
              0.2222222222222222,
              "#7201a8"
             ],
             [
              0.3333333333333333,
              "#9c179e"
             ],
             [
              0.4444444444444444,
              "#bd3786"
             ],
             [
              0.5555555555555556,
              "#d8576b"
             ],
             [
              0.6666666666666666,
              "#ed7953"
             ],
             [
              0.7777777777777778,
              "#fb9f3a"
             ],
             [
              0.8888888888888888,
              "#fdca26"
             ],
             [
              1,
              "#f0f921"
             ]
            ],
            "type": "histogram2d"
           }
          ],
          "histogram2dcontour": [
           {
            "colorbar": {
             "outlinewidth": 0,
             "ticks": ""
            },
            "colorscale": [
             [
              0,
              "#0d0887"
             ],
             [
              0.1111111111111111,
              "#46039f"
             ],
             [
              0.2222222222222222,
              "#7201a8"
             ],
             [
              0.3333333333333333,
              "#9c179e"
             ],
             [
              0.4444444444444444,
              "#bd3786"
             ],
             [
              0.5555555555555556,
              "#d8576b"
             ],
             [
              0.6666666666666666,
              "#ed7953"
             ],
             [
              0.7777777777777778,
              "#fb9f3a"
             ],
             [
              0.8888888888888888,
              "#fdca26"
             ],
             [
              1,
              "#f0f921"
             ]
            ],
            "type": "histogram2dcontour"
           }
          ],
          "mesh3d": [
           {
            "colorbar": {
             "outlinewidth": 0,
             "ticks": ""
            },
            "type": "mesh3d"
           }
          ],
          "parcoords": [
           {
            "line": {
             "colorbar": {
              "outlinewidth": 0,
              "ticks": ""
             }
            },
            "type": "parcoords"
           }
          ],
          "pie": [
           {
            "automargin": true,
            "type": "pie"
           }
          ],
          "scatter": [
           {
            "fillpattern": {
             "fillmode": "overlay",
             "size": 10,
             "solidity": 0.2
            },
            "type": "scatter"
           }
          ],
          "scatter3d": [
           {
            "line": {
             "colorbar": {
              "outlinewidth": 0,
              "ticks": ""
             }
            },
            "marker": {
             "colorbar": {
              "outlinewidth": 0,
              "ticks": ""
             }
            },
            "type": "scatter3d"
           }
          ],
          "scattercarpet": [
           {
            "marker": {
             "colorbar": {
              "outlinewidth": 0,
              "ticks": ""
             }
            },
            "type": "scattercarpet"
           }
          ],
          "scattergeo": [
           {
            "marker": {
             "colorbar": {
              "outlinewidth": 0,
              "ticks": ""
             }
            },
            "type": "scattergeo"
           }
          ],
          "scattergl": [
           {
            "marker": {
             "colorbar": {
              "outlinewidth": 0,
              "ticks": ""
             }
            },
            "type": "scattergl"
           }
          ],
          "scattermapbox": [
           {
            "marker": {
             "colorbar": {
              "outlinewidth": 0,
              "ticks": ""
             }
            },
            "type": "scattermapbox"
           }
          ],
          "scatterpolar": [
           {
            "marker": {
             "colorbar": {
              "outlinewidth": 0,
              "ticks": ""
             }
            },
            "type": "scatterpolar"
           }
          ],
          "scatterpolargl": [
           {
            "marker": {
             "colorbar": {
              "outlinewidth": 0,
              "ticks": ""
             }
            },
            "type": "scatterpolargl"
           }
          ],
          "scatterternary": [
           {
            "marker": {
             "colorbar": {
              "outlinewidth": 0,
              "ticks": ""
             }
            },
            "type": "scatterternary"
           }
          ],
          "surface": [
           {
            "colorbar": {
             "outlinewidth": 0,
             "ticks": ""
            },
            "colorscale": [
             [
              0,
              "#0d0887"
             ],
             [
              0.1111111111111111,
              "#46039f"
             ],
             [
              0.2222222222222222,
              "#7201a8"
             ],
             [
              0.3333333333333333,
              "#9c179e"
             ],
             [
              0.4444444444444444,
              "#bd3786"
             ],
             [
              0.5555555555555556,
              "#d8576b"
             ],
             [
              0.6666666666666666,
              "#ed7953"
             ],
             [
              0.7777777777777778,
              "#fb9f3a"
             ],
             [
              0.8888888888888888,
              "#fdca26"
             ],
             [
              1,
              "#f0f921"
             ]
            ],
            "type": "surface"
           }
          ],
          "table": [
           {
            "cells": {
             "fill": {
              "color": "#EBF0F8"
             },
             "line": {
              "color": "white"
             }
            },
            "header": {
             "fill": {
              "color": "#C8D4E3"
             },
             "line": {
              "color": "white"
             }
            },
            "type": "table"
           }
          ]
         },
         "layout": {
          "annotationdefaults": {
           "arrowcolor": "#2a3f5f",
           "arrowhead": 0,
           "arrowwidth": 1
          },
          "autotypenumbers": "strict",
          "coloraxis": {
           "colorbar": {
            "outlinewidth": 0,
            "ticks": ""
           }
          },
          "colorscale": {
           "diverging": [
            [
             0,
             "#8e0152"
            ],
            [
             0.1,
             "#c51b7d"
            ],
            [
             0.2,
             "#de77ae"
            ],
            [
             0.3,
             "#f1b6da"
            ],
            [
             0.4,
             "#fde0ef"
            ],
            [
             0.5,
             "#f7f7f7"
            ],
            [
             0.6,
             "#e6f5d0"
            ],
            [
             0.7,
             "#b8e186"
            ],
            [
             0.8,
             "#7fbc41"
            ],
            [
             0.9,
             "#4d9221"
            ],
            [
             1,
             "#276419"
            ]
           ],
           "sequential": [
            [
             0,
             "#0d0887"
            ],
            [
             0.1111111111111111,
             "#46039f"
            ],
            [
             0.2222222222222222,
             "#7201a8"
            ],
            [
             0.3333333333333333,
             "#9c179e"
            ],
            [
             0.4444444444444444,
             "#bd3786"
            ],
            [
             0.5555555555555556,
             "#d8576b"
            ],
            [
             0.6666666666666666,
             "#ed7953"
            ],
            [
             0.7777777777777778,
             "#fb9f3a"
            ],
            [
             0.8888888888888888,
             "#fdca26"
            ],
            [
             1,
             "#f0f921"
            ]
           ],
           "sequentialminus": [
            [
             0,
             "#0d0887"
            ],
            [
             0.1111111111111111,
             "#46039f"
            ],
            [
             0.2222222222222222,
             "#7201a8"
            ],
            [
             0.3333333333333333,
             "#9c179e"
            ],
            [
             0.4444444444444444,
             "#bd3786"
            ],
            [
             0.5555555555555556,
             "#d8576b"
            ],
            [
             0.6666666666666666,
             "#ed7953"
            ],
            [
             0.7777777777777778,
             "#fb9f3a"
            ],
            [
             0.8888888888888888,
             "#fdca26"
            ],
            [
             1,
             "#f0f921"
            ]
           ]
          },
          "colorway": [
           "#636efa",
           "#EF553B",
           "#00cc96",
           "#ab63fa",
           "#FFA15A",
           "#19d3f3",
           "#FF6692",
           "#B6E880",
           "#FF97FF",
           "#FECB52"
          ],
          "font": {
           "color": "#2a3f5f"
          },
          "geo": {
           "bgcolor": "white",
           "lakecolor": "white",
           "landcolor": "#E5ECF6",
           "showlakes": true,
           "showland": true,
           "subunitcolor": "white"
          },
          "hoverlabel": {
           "align": "left"
          },
          "hovermode": "closest",
          "mapbox": {
           "style": "light"
          },
          "paper_bgcolor": "white",
          "plot_bgcolor": "#E5ECF6",
          "polar": {
           "angularaxis": {
            "gridcolor": "white",
            "linecolor": "white",
            "ticks": ""
           },
           "bgcolor": "#E5ECF6",
           "radialaxis": {
            "gridcolor": "white",
            "linecolor": "white",
            "ticks": ""
           }
          },
          "scene": {
           "xaxis": {
            "backgroundcolor": "#E5ECF6",
            "gridcolor": "white",
            "gridwidth": 2,
            "linecolor": "white",
            "showbackground": true,
            "ticks": "",
            "zerolinecolor": "white"
           },
           "yaxis": {
            "backgroundcolor": "#E5ECF6",
            "gridcolor": "white",
            "gridwidth": 2,
            "linecolor": "white",
            "showbackground": true,
            "ticks": "",
            "zerolinecolor": "white"
           },
           "zaxis": {
            "backgroundcolor": "#E5ECF6",
            "gridcolor": "white",
            "gridwidth": 2,
            "linecolor": "white",
            "showbackground": true,
            "ticks": "",
            "zerolinecolor": "white"
           }
          },
          "shapedefaults": {
           "line": {
            "color": "#2a3f5f"
           }
          },
          "ternary": {
           "aaxis": {
            "gridcolor": "white",
            "linecolor": "white",
            "ticks": ""
           },
           "baxis": {
            "gridcolor": "white",
            "linecolor": "white",
            "ticks": ""
           },
           "bgcolor": "#E5ECF6",
           "caxis": {
            "gridcolor": "white",
            "linecolor": "white",
            "ticks": ""
           }
          },
          "title": {
           "x": 0.05
          },
          "xaxis": {
           "automargin": true,
           "gridcolor": "white",
           "linecolor": "white",
           "ticks": "",
           "title": {
            "standoff": 15
           },
           "zerolinecolor": "white",
           "zerolinewidth": 2
          },
          "yaxis": {
           "automargin": true,
           "gridcolor": "white",
           "linecolor": "white",
           "ticks": "",
           "title": {
            "standoff": 15
           },
           "zerolinecolor": "white",
           "zerolinewidth": 2
          }
         }
        },
        "title": {
         "text": "Greenhouse Gas Emissions by Diet Group, Age, and Sex<br><sup>Mean GHG Emissions (kg CO₂e per capita)</sup>"
        },
        "width": 1100
       }
      },
      "image/png": "[encoded data removed]",
      "text/html": [
       "<div>                            <div id=\"a374d254-e71d-4472-999c-76bb816ac9e1\" class=\"plotly-graph-div\" style=\"height:800px; width:1100px;\"></div>            <script type=\"text/javascript\">                require([\"plotly\"], function(Plotly) {                    window.PLOTLYENV=window.PLOTLYENV || {};                                    if (document.getElementById(\"a374d254-e71d-4472-999c-76bb816ac9e1\")) {                    Plotly.newPlot(                        \"a374d254-e71d-4472-999c-76bb816ac9e1\",                        [{\"branchvalues\":\"total\",\"customdata\":[[4.902947125081],[4.942664483793],[4.927040172677],[4.9443203337909996],[5.103822518681],[4.990762890714],[5.659688871225999],[5.327205952942],[5.2018026093489995],[5.142355789303],[5.153826680613],[5.303953641929],[6.913346378262],[7.135581666559999],[7.484151329541001],[7.5861156615219985],[7.541230540435],[7.611196494765],[7.387087141033],[7.594977983203],[7.7815126207650005],[7.752900129514],[7.835827297245],[8.023873929639],[10.191268743064],[10.421548409817],[11.242124224869],[11.574401589788],[11.520473391645],[11.990853394399],[12.104782205644998],[11.178862348943],[11.493864090237997],[11.678040095755998],[11.450175664626],[12.263987428482],[5.38615768943],[5.489000437973],[5.604987137323],[5.743810547210001],[5.861660341356],[5.8360413618399996],[5.8427412208459995],[5.9230542061469995],[5.8985248148350005],[5.932798636723],[5.921724590470999],[6.126166528464],[2.383216383473],[2.540393020847],[2.657602421868],[2.520496825096],[2.633644804226],[2.839875594178],[2.84322830886],[2.698172418304],[2.694366019617],[2.524737409503],[2.427010725764],[2.587986805198],[4.319955997758],[4.367724164195001],[4.386548303825],[4.370471444328],[4.472485087662],[4.4734452564780005],[4.899777121339],[4.807758162692999],[4.610379492209],[4.455095310198001],[4.44484358452],[4.612451445292001],[6.717551849858523],[6.866362983715271],[7.283092859876983],[7.468981386400732],[7.457958621420063],[7.650713720864949],[7.727854992390682],[7.367620367636513],[7.511253335113161],[7.585464647031161],[7.514285966892948],[7.924837823460515],[7.25488763928683],[7.126103411078163],[7.399297941353999],[7.527808615222374],[7.4861602002813],[7.789878789022498]],\"domain\":{\"x\":[0.0,1.0],\"y\":[0.0,1.0]},\"hovertemplate\":\"\\u003cb\\u003e%{parent}\\u003c\\u002fb\\u003e\\u003cbr\\u003eDiet Group: %{label}\\u003cbr\\u003eGHG Emissions: \\u003cb\\u003e%{color:.2f} kg CO\\u2082e\\u003c\\u002fb\\u003e\",\"ids\":[\"20-29\\u002ffemale\\u002ffish\",\"30-39\\u002ffemale\\u002ffish\",\"40-49\\u002ffemale\\u002ffish\",\"50-59\\u002ffemale\\u002ffish\",\"60-69\\u002ffemale\\u002ffish\",\"70-79\\u002ffemale\\u002ffish\",\"20-29\\u002fmale\\u002ffish\",\"30-39\\u002fmale\\u002ffish\",\"40-49\\u002fmale\\u002ffish\",\"50-59\\u002fmale\\u002ffish\",\"60-69\\u002fmale\\u002ffish\",\"70-79\\u002fmale\\u002ffish\",\"20-29\\u002ffemale\\u002fmeat\",\"30-39\\u002ffemale\\u002fmeat\",\"40-49\\u002ffemale\\u002fmeat\",\"50-59\\u002ffemale\\u002fmeat\",\"60-69\\u002ffemale\\u002fmeat\",\"70-79\\u002ffemale\\u002fmeat\",\"20-29\\u002fmale\\u002fmeat\",\"30-39\\u002fmale\\u002fmeat\",\"40-49\\u002fmale\\u002fmeat\",\"50-59\\u002fmale\\u002fmeat\",\"60-69\\u002fmale\\u002fmeat\",\"70-79\\u002fmale\\u002fmeat\",\"20-29\\u002ffemale\\u002fmeat100\",\"30-39\\u002ffemale\\u002fmeat100\",\"40-49\\u002ffemale\\u002fmeat100\",\"50-59\\u002ffemale\\u002fmeat100\",\"60-69\\u002ffemale\\u002fmeat100\",\"70-79\\u002ffemale\\u002fmeat100\",\"20-29\\u002fmale\\u002fmeat100\",\"30-39\\u002fmale\\u002fmeat100\",\"40-49\\u002fmale\\u002fmeat100\",\"50-59\\u002fmale\\u002fmeat100\",\"60-69\\u002fmale\\u002fmeat100\",\"70-79\\u002fmale\\u002fmeat100\",\"20-29\\u002ffemale\\u002fmeat50\",\"30-39\\u002ffemale\\u002fmeat50\",\"40-49\\u002ffemale\\u002fmeat50\",\"50-59\\u002ffemale\\u002fmeat50\",\"60-69\\u002ffemale\\u002fmeat50\",\"70-79\\u002ffemale\\u002fmeat50\",\"20-29\\u002fmale\\u002fmeat50\",\"30-39\\u002fmale\\u002fmeat50\",\"40-49\\u002fmale\\u002fmeat50\",\"50-59\\u002fmale\\u002fmeat50\",\"60-69\\u002fmale\\u002fmeat50\",\"70-79\\u002fmale\\u002fmeat50\",\"20-29\\u002ffemale\\u002fvegan\",\"30-39\\u002ffemale\\u002fvegan\",\"40-49\\u002ffemale\\u002fvegan\",\"50-59\\u002ffemale\\u002fvegan\",\"60-69\\u002ffemale\\u002fvegan\",\"70-79\\u002ffemale\\u002fvegan\",\"20-29\\u002fmale\\u002fvegan\",\"30-39\\u002fmale\\u002fvegan\",\"40-49\\u002fmale\\u002fvegan\",\"50-59\\u002fmale\\u002fvegan\",\"60-69\\u002fmale\\u002fvegan\",\"70-79\\u002fmale\\u002fvegan\",\"20-29\\u002ffemale\\u002fveggie\",\"30-39\\u002ffemale\\u002fveggie\",\"40-49\\u002ffemale\\u002fveggie\",\"50-59\\u002ffemale\\u002fveggie\",\"60-69\\u002ffemale\\u002fveggie\",\"70-79\\u002ffemale\\u002fveggie\",\"20-29\\u002fmale\\u002fveggie\",\"30-39\\u002fmale\\u002fveggie\",\"40-49\\u002fmale\\u002fveggie\",\"50-59\\u002fmale\\u002fveggie\",\"60-69\\u002fmale\\u002fveggie\",\"70-79\\u002fmale\\u002fveggie\",\"20-29\\u002ffemale\",\"30-39\\u002ffemale\",\"40-49\\u002ffemale\",\"50-59\\u002ffemale\",\"60-69\\u002ffemale\",\"70-79\\u002ffemale\",\"20-29\\u002fmale\",\"30-39\\u002fmale\",\"40-49\\u002fmale\",\"50-59\\u002fmale\",\"60-69\\u002fmale\",\"70-79\\u002fmale\",\"20-29\",\"30-39\",\"40-49\",\"50-59\",\"60-69\",\"70-79\"],\"labels\":[\"fish\",\"fish\",\"fish\",\"fish\",\"fish\",\"fish\",\"fish\",\"fish\",\"fish\",\"fish\",\"fish\",\"fish\",\"meat\",\"meat\",\"meat\",\"meat\",\"meat\",\"meat\",\"meat\",\"meat\",\"meat\",\"meat\",\"meat\",\"meat\",\"meat100\",\"meat100\",\"meat100\",\"meat100\",\"meat100\",\"meat100\",\"meat100\",\"meat100\",\"meat100\",\"meat100\",\"meat100\",\"meat100\",\"meat50\",\"meat50\",\"meat50\",\"meat50\",\"meat50\",\"meat50\",\"meat50\",\"meat50\",\"meat50\",\"meat50\",\"meat50\",\"meat50\",\"vegan\",\"vegan\",\"vegan\",\"vegan\",\"vegan\",\"vegan\",\"vegan\",\"vegan\",\"vegan\",\"vegan\",\"vegan\",\"vegan\",\"veggie\",\"veggie\",\"veggie\",\"veggie\",\"veggie\",\"veggie\",\"veggie\",\"veggie\",\"veggie\",\"veggie\",\"veggie\",\"veggie\",\"female\",\"female\",\"female\",\"female\",\"female\",\"female\",\"male\",\"male\",\"male\",\"male\",\"male\",\"male\",\"20-29\",\"30-39\",\"40-49\",\"50-59\",\"60-69\",\"70-79\"],\"marker\":{\"coloraxis\":\"coloraxis\",\"colors\":[4.902947125081,4.942664483793,4.927040172677,4.9443203337909996,5.103822518681,4.990762890714,5.659688871225999,5.327205952942,5.2018026093489995,5.142355789303,5.153826680613,5.303953641929,6.913346378262,7.135581666559999,7.484151329541001,7.5861156615219985,7.541230540435,7.611196494765,7.387087141033,7.594977983203,7.7815126207650005,7.752900129514,7.835827297245,8.023873929639,10.191268743064,10.421548409817,11.242124224869,11.574401589788,11.520473391645,11.990853394399,12.104782205644998,11.178862348943,11.493864090237997,11.678040095755998,11.450175664626,12.263987428482,5.38615768943,5.489000437973,5.604987137323,5.743810547210001,5.861660341356,5.8360413618399996,5.8427412208459995,5.9230542061469995,5.8985248148350005,5.932798636723,5.921724590470999,6.126166528464,2.383216383473,2.540393020847,2.657602421868,2.520496825096,2.633644804226,2.839875594178,2.84322830886,2.698172418304,2.694366019617,2.524737409503,2.427010725764,2.587986805198,4.319955997758,4.367724164195001,4.386548303825,4.370471444328,4.472485087662,4.4734452564780005,4.899777121339,4.807758162692999,4.610379492209,4.455095310198001,4.44484358452,4.612451445292001,6.717551849858523,6.866362983715271,7.283092859876983,7.468981386400732,7.457958621420063,7.650713720864949,7.727854992390682,7.367620367636513,7.511253335113161,7.585464647031161,7.514285966892948,7.924837823460515,7.25488763928683,7.126103411078163,7.399297941353999,7.527808615222374,7.4861602002813,7.789878789022498]},\"name\":\"\",\"parents\":[\"20-29\\u002ffemale\",\"30-39\\u002ffemale\",\"40-49\\u002ffemale\",\"50-59\\u002ffemale\",\"60-69\\u002ffemale\",\"70-79\\u002ffemale\",\"20-29\\u002fmale\",\"30-39\\u002fmale\",\"40-49\\u002fmale\",\"50-59\\u002fmale\",\"60-69\\u002fmale\",\"70-79\\u002fmale\",\"20-29\\u002ffemale\",\"30-39\\u002ffemale\",\"40-49\\u002ffemale\",\"50-59\\u002ffemale\",\"60-69\\u002ffemale\",\"70-79\\u002ffemale\",\"20-29\\u002fmale\",\"30-39\\u002fmale\",\"40-49\\u002fmale\",\"50-59\\u002fmale\",\"60-69\\u002fmale\",\"70-79\\u002fmale\",\"20-29\\u002ffemale\",\"30-39\\u002ffemale\",\"40-49\\u002ffemale\",\"50-59\\u002ffemale\",\"60-69\\u002ffemale\",\"70-79\\u002ffemale\",\"20-29\\u002fmale\",\"30-39\\u002fmale\",\"40-49\\u002fmale\",\"50-59\\u002fmale\",\"60-69\\u002fmale\",\"70-79\\u002fmale\",\"20-29\\u002ffemale\",\"30-39\\u002ffemale\",\"40-49\\u002ffemale\",\"50-59\\u002ffemale\",\"60-69\\u002ffemale\",\"70-79\\u002ffemale\",\"20-29\\u002fmale\",\"30-39\\u002fmale\",\"40-49\\u002fmale\",\"50-59\\u002fmale\",\"60-69\\u002fmale\",\"70-79\\u002fmale\",\"20-29\\u002ffemale\",\"30-39\\u002ffemale\",\"40-49\\u002ffemale\",\"50-59\\u002ffemale\",\"60-69\\u002ffemale\",\"70-79\\u002ffemale\",\"20-29\\u002fmale\",\"30-39\\u002fmale\",\"40-49\\u002fmale\",\"50-59\\u002fmale\",\"60-69\\u002fmale\",\"70-79\\u002fmale\",\"20-29\\u002ffemale\",\"30-39\\u002ffemale\",\"40-49\\u002ffemale\",\"50-59\\u002ffemale\",\"60-69\\u002ffemale\",\"70-79\\u002ffemale\",\"20-29\\u002fmale\",\"30-39\\u002fmale\",\"40-49\\u002fmale\",\"50-59\\u002fmale\",\"60-69\\u002fmale\",\"70-79\\u002fmale\",\"20-29\",\"30-39\",\"40-49\",\"50-59\",\"60-69\",\"70-79\",\"20-29\",\"30-39\",\"40-49\",\"50-59\",\"60-69\",\"70-79\",\"\",\"\",\"\",\"\",\"\",\"\"],\"values\":[4.902947125081,4.942664483793,4.927040172677,4.9443203337909996,5.103822518681,4.990762890714,5.659688871226,5.327205952942,5.2018026093489995,5.142355789303,5.153826680613,5.303953641929,6.913346378262,7.135581666559999,7.4841513295410005,7.586115661521999,7.541230540435,7.611196494765,7.387087141033,7.594977983203,7.7815126207650005,7.752900129514,7.835827297245,8.023873929639,10.191268743064,10.421548409817,11.242124224869,11.574401589788,11.520473391645,11.990853394399,12.104782205645,11.178862348943,11.493864090237999,11.678040095756,11.450175664626,12.263987428482,5.38615768943,5.489000437973,5.604987137323,5.74381054721,5.861660341356,5.8360413618399996,5.842741220846,5.9230542061469995,5.8985248148350005,5.932798636723,5.921724590470999,6.126166528464,2.383216383473,2.540393020847,2.657602421868,2.520496825096,2.633644804226,2.839875594178,2.84322830886,2.698172418304,2.694366019617,2.524737409503,2.427010725764,2.587986805198,4.319955997758,4.367724164195001,4.386548303825,4.370471444328,4.472485087662,4.4734452564780005,4.899777121339,4.807758162692999,4.610379492209,4.455095310198001,4.44484358452,4.612451445292001,34.096892317068004,34.896912183185,36.302453590103,36.739616401735,37.133316684005,37.742174992374,38.737304868948996,37.530031072232,37.680449647013,37.485927370997004,37.233408543239,38.918419779004,72.83419718601701,72.426943255417,73.982903237116,74.225543772732,74.366725227244,76.660594771378],\"type\":\"treemap\",\"insidetextfont\":{\"size\":10},\"textposition\":\"middle center\",\"texttemplate\":\"\\u003cb\\u003e%{label}\\u003c\\u002fb\\u003e\"}],                        {\"template\":{\"data\":{\"histogram2dcontour\":[{\"type\":\"histogram2dcontour\",\"colorbar\":{\"outlinewidth\":0,\"ticks\":\"\"},\"colorscale\":[[0.0,\"#0d0887\"],[0.1111111111111111,\"#46039f\"],[0.2222222222222222,\"#7201a8\"],[0.3333333333333333,\"#9c179e\"],[0.4444444444444444,\"#bd3786\"],[0.5555555555555556,\"#d8576b\"],[0.6666666666666666,\"#ed7953\"],[0.7777777777777778,\"#fb9f3a\"],[0.8888888888888888,\"#fdca26\"],[1.0,\"#f0f921\"]]}],\"choropleth\":[{\"type\":\"choropleth\",\"colorbar\":{\"outlinewidth\":0,\"ticks\":\"\"}}],\"histogram2d\":[{\"type\":\"histogram2d\",\"colorbar\":{\"outlinewidth\":0,\"ticks\":\"\"},\"colorscale\":[[0.0,\"#0d0887\"],[0.1111111111111111,\"#46039f\"],[0.2222222222222222,\"#7201a8\"],[0.3333333333333333,\"#9c179e\"],[0.4444444444444444,\"#bd3786\"],[0.5555555555555556,\"#d8576b\"],[0.6666666666666666,\"#ed7953\"],[0.7777777777777778,\"#fb9f3a\"],[0.8888888888888888,\"#fdca26\"],[1.0,\"#f0f921\"]]}],\"heatmap\":[{\"type\":\"heatmap\",\"colorbar\":{\"outlinewidth\":0,\"ticks\":\"\"},\"colorscale\":[[0.0,\"#0d0887\"],[0.1111111111111111,\"#46039f\"],[0.2222222222222222,\"#7201a8\"],[0.3333333333333333,\"#9c179e\"],[0.4444444444444444,\"#bd3786\"],[0.5555555555555556,\"#d8576b\"],[0.6666666666666666,\"#ed7953\"],[0.7777777777777778,\"#fb9f3a\"],[0.8888888888888888,\"#fdca26\"],[1.0,\"#f0f921\"]]}],\"heatmapgl\":[{\"type\":\"heatmapgl\",\"colorbar\":{\"outlinewidth\":0,\"ticks\":\"\"},\"colorscale\":[[0.0,\"#0d0887\"],[0.1111111111111111,\"#46039f\"],[0.2222222222222222,\"#7201a8\"],[0.3333333333333333,\"#9c179e\"],[0.4444444444444444,\"#bd3786\"],[0.5555555555555556,\"#d8576b\"],[0.6666666666666666,\"#ed7953\"],[0.7777777777777778,\"#fb9f3a\"],[0.8888888888888888,\"#fdca26\"],[1.0,\"#f0f921\"]]}],\"contourcarpet\":[{\"type\":\"contourcarpet\",\"colorbar\":{\"outlinewidth\":0,\"ticks\":\"\"}}],\"contour\":[{\"type\":\"contour\",\"colorbar\":{\"outlinewidth\":0,\"ticks\":\"\"},\"colorscale\":[[0.0,\"#0d0887\"],[0.1111111111111111,\"#46039f\"],[0.2222222222222222,\"#7201a8\"],[0.3333333333333333,\"#9c179e\"],[0.4444444444444444,\"#bd3786\"],[0.5555555555555556,\"#d8576b\"],[0.6666666666666666,\"#ed7953\"],[0.7777777777777778,\"#fb9f3a\"],[0.8888888888888888,\"#fdca26\"],[1.0,\"#f0f921\"]]}],\"surface\":[{\"type\":\"surface\",\"colorbar\":{\"outlinewidth\":0,\"ticks\":\"\"},\"colorscale\":[[0.0,\"#0d0887\"],[0.1111111111111111,\"#46039f\"],[0.2222222222222222,\"#7201a8\"],[0.3333333333333333,\"#9c179e\"],[0.4444444444444444,\"#bd3786\"],[0.5555555555555556,\"#d8576b\"],[0.6666666666666666,\"#ed7953\"],[0.7777777777777778,\"#fb9f3a\"],[0.8888888888888888,\"#fdca26\"],[1.0,\"#f0f921\"]]}],\"mesh3d\":[{\"type\":\"mesh3d\",\"colorbar\":{\"outlinewidth\":0,\"ticks\":\"\"}}],\"scatter\":[{\"fillpattern\":{\"fillmode\":\"overlay\",\"size\":10,\"solidity\":0.2},\"type\":\"scatter\"}],\"parcoords\":[{\"type\":\"parcoords\",\"line\":{\"colorbar\":{\"outlinewidth\":0,\"ticks\":\"\"}}}],\"scatterpolargl\":[{\"type\":\"scatterpolargl\",\"marker\":{\"colorbar\":{\"outlinewidth\":0,\"ticks\":\"\"}}}],\"bar\":[{\"error_x\":{\"color\":\"#2a3f5f\"},\"error_y\":{\"color\":\"#2a3f5f\"},\"marker\":{\"line\":{\"color\":\"#E5ECF6\",\"width\":0.5},\"pattern\":{\"fillmode\":\"overlay\",\"size\":10,\"solidity\":0.2}},\"type\":\"bar\"}],\"scattergeo\":[{\"type\":\"scattergeo\",\"marker\":{\"colorbar\":{\"outlinewidth\":0,\"ticks\":\"\"}}}],\"scatterpolar\":[{\"type\":\"scatterpolar\",\"marker\":{\"colorbar\":{\"outlinewidth\":0,\"ticks\":\"\"}}}],\"histogram\":[{\"marker\":{\"pattern\":{\"fillmode\":\"overlay\",\"size\":10,\"solidity\":0.2}},\"type\":\"histogram\"}],\"scattergl\":[{\"type\":\"scattergl\",\"marker\":{\"colorbar\":{\"outlinewidth\":0,\"ticks\":\"\"}}}],\"scatter3d\":[{\"type\":\"scatter3d\",\"line\":{\"colorbar\":{\"outlinewidth\":0,\"ticks\":\"\"}},\"marker\":{\"colorbar\":{\"outlinewidth\":0,\"ticks\":\"\"}}}],\"scattermapbox\":[{\"type\":\"scattermapbox\",\"marker\":{\"colorbar\":{\"outlinewidth\":0,\"ticks\":\"\"}}}],\"scatterternary\":[{\"type\":\"scatterternary\",\"marker\":{\"colorbar\":{\"outlinewidth\":0,\"ticks\":\"\"}}}],\"scattercarpet\":[{\"type\":\"scattercarpet\",\"marker\":{\"colorbar\":{\"outlinewidth\":0,\"ticks\":\"\"}}}],\"carpet\":[{\"aaxis\":{\"endlinecolor\":\"#2a3f5f\",\"gridcolor\":\"white\",\"linecolor\":\"white\",\"minorgridcolor\":\"white\",\"startlinecolor\":\"#2a3f5f\"},\"baxis\":{\"endlinecolor\":\"#2a3f5f\",\"gridcolor\":\"white\",\"linecolor\":\"white\",\"minorgridcolor\":\"white\",\"startlinecolor\":\"#2a3f5f\"},\"type\":\"carpet\"}],\"table\":[{\"cells\":{\"fill\":{\"color\":\"#EBF0F8\"},\"line\":{\"color\":\"white\"}},\"header\":{\"fill\":{\"color\":\"#C8D4E3\"},\"line\":{\"color\":\"white\"}},\"type\":\"table\"}],\"barpolar\":[{\"marker\":{\"line\":{\"color\":\"#E5ECF6\",\"width\":0.5},\"pattern\":{\"fillmode\":\"overlay\",\"size\":10,\"solidity\":0.2}},\"type\":\"barpolar\"}],\"pie\":[{\"automargin\":true,\"type\":\"pie\"}]},\"layout\":{\"autotypenumbers\":\"strict\",\"colorway\":[\"#636efa\",\"#EF553B\",\"#00cc96\",\"#ab63fa\",\"#FFA15A\",\"#19d3f3\",\"#FF6692\",\"#B6E880\",\"#FF97FF\",\"#FECB52\"],\"font\":{\"color\":\"#2a3f5f\"},\"hovermode\":\"closest\",\"hoverlabel\":{\"align\":\"left\"},\"paper_bgcolor\":\"white\",\"plot_bgcolor\":\"#E5ECF6\",\"polar\":{\"bgcolor\":\"#E5ECF6\",\"angularaxis\":{\"gridcolor\":\"white\",\"linecolor\":\"white\",\"ticks\":\"\"},\"radialaxis\":{\"gridcolor\":\"white\",\"linecolor\":\"white\",\"ticks\":\"\"}},\"ternary\":{\"bgcolor\":\"#E5ECF6\",\"aaxis\":{\"gridcolor\":\"white\",\"linecolor\":\"white\",\"ticks\":\"\"},\"baxis\":{\"gridcolor\":\"white\",\"linecolor\":\"white\",\"ticks\":\"\"},\"caxis\":{\"gridcolor\":\"white\",\"linecolor\":\"white\",\"ticks\":\"\"}},\"coloraxis\":{\"colorbar\":{\"outlinewidth\":0,\"ticks\":\"\"}},\"colorscale\":{\"sequential\":[[0.0,\"#0d0887\"],[0.1111111111111111,\"#46039f\"],[0.2222222222222222,\"#7201a8\"],[0.3333333333333333,\"#9c179e\"],[0.4444444444444444,\"#bd3786\"],[0.5555555555555556,\"#d8576b\"],[0.6666666666666666,\"#ed7953\"],[0.7777777777777778,\"#fb9f3a\"],[0.8888888888888888,\"#fdca26\"],[1.0,\"#f0f921\"]],\"sequentialminus\":[[0.0,\"#0d0887\"],[0.1111111111111111,\"#46039f\"],[0.2222222222222222,\"#7201a8\"],[0.3333333333333333,\"#9c179e\"],[0.4444444444444444,\"#bd3786\"],[0.5555555555555556,\"#d8576b\"],[0.6666666666666666,\"#ed7953\"],[0.7777777777777778,\"#fb9f3a\"],[0.8888888888888888,\"#fdca26\"],[1.0,\"#f0f921\"]],\"diverging\":[[0,\"#8e0152\"],[0.1,\"#c51b7d\"],[0.2,\"#de77ae\"],[0.3,\"#f1b6da\"],[0.4,\"#fde0ef\"],[0.5,\"#f7f7f7\"],[0.6,\"#e6f5d0\"],[0.7,\"#b8e186\"],[0.8,\"#7fbc41\"],[0.9,\"#4d9221\"],[1,\"#276419\"]]},\"xaxis\":{\"gridcolor\":\"white\",\"linecolor\":\"white\",\"ticks\":\"\",\"title\":{\"standoff\":15},\"zerolinecolor\":\"white\",\"automargin\":true,\"zerolinewidth\":2},\"yaxis\":{\"gridcolor\":\"white\",\"linecolor\":\"white\",\"ticks\":\"\",\"title\":{\"standoff\":15},\"zerolinecolor\":\"white\",\"automargin\":true,\"zerolinewidth\":2},\"scene\":{\"xaxis\":{\"backgroundcolor\":\"#E5ECF6\",\"gridcolor\":\"white\",\"linecolor\":\"white\",\"showbackground\":true,\"ticks\":\"\",\"zerolinecolor\":\"white\",\"gridwidth\":2},\"yaxis\":{\"backgroundcolor\":\"#E5ECF6\",\"gridcolor\":\"white\",\"linecolor\":\"white\",\"showbackground\":true,\"ticks\":\"\",\"zerolinecolor\":\"white\",\"gridwidth\":2},\"zaxis\":{\"backgroundcolor\":\"#E5ECF6\",\"gridcolor\":\"white\",\"linecolor\":\"white\",\"showbackground\":true,\"ticks\":\"\",\"zerolinecolor\":\"white\",\"gridwidth\":2}},\"shapedefaults\":{\"line\":{\"color\":\"#2a3f5f\"}},\"annotationdefaults\":{\"arrowcolor\":\"#2a3f5f\",\"arrowhead\":0,\"arrowwidth\":1},\"geo\":{\"bgcolor\":\"white\",\"landcolor\":\"#E5ECF6\",\"subunitcolor\":\"white\",\"showland\":true,\"showlakes\":true,\"lakecolor\":\"white\"},\"title\":{\"x\":0.05},\"mapbox\":{\"style\":\"light\"}}},\"coloraxis\":{\"colorbar\":{\"title\":{\"text\":\"GHG (kg CO\\u2082e)\"},\"x\":1.0,\"y\":0.5},\"colorscale\":[[0.0,\"rgb(255,245,240)\"],[0.125,\"rgb(254,224,210)\"],[0.25,\"rgb(252,187,161)\"],[0.375,\"rgb(252,146,114)\"],[0.5,\"rgb(251,106,74)\"],[0.625,\"rgb(239,59,44)\"],[0.75,\"rgb(203,24,29)\"],[0.875,\"rgb(165,15,21)\"],[1.0,\"rgb(103,0,13)\"]]},\"legend\":{\"tracegroupgap\":0},\"title\":{\"text\":\"Greenhouse Gas Emissions by Diet Group, Age, and Sex\\u003cbr\\u003e\\u003csup\\u003eMean GHG Emissions (kg CO\\u2082e per capita)\\u003c\\u002fsup\\u003e\"},\"margin\":{\"t\":90,\"l\":50,\"r\":120,\"b\":50},\"height\":800,\"width\":1100},                        {\"responsive\": true}                    ).then(function(){\n",
       "                            \n",
       "var gd = document.getElementById('a374d254-e71d-4472-999c-76bb816ac9e1');\n",
       "var x = new MutationObserver(function (mutations, observer) {{\n",
       "        var display = window.getComputedStyle(gd).display;\n",
       "        if (!display || display === 'none') {{\n",
       "            console.log([gd, 'removed!']);\n",
       "            Plotly.purge(gd);\n",
       "            observer.disconnect();\n",
       "        }}\n",
       "}});\n",
       "\n",
       "// Listen for the removal of the full notebook cells\n",
       "var notebookContainer = gd.closest('#notebook-container');\n",
       "if (notebookContainer) {{\n",
       "    x.observe(notebookContainer, {childList: true});\n",
       "}}\n",
       "\n",
       "// Listen for the clearing of the current output cell\n",
       "var outputEl = gd.closest('.output');\n",
       "if (outputEl) {{\n",
       "    x.observe(outputEl, {childList: true});\n",
       "}}\n",
       "\n",
       "                        })                };                });            </script>        </div>"
      ]
     },
     "metadata": {},
     "output_type": "display_data"
    }
   ],
   "source": [
    "# STEP 3: Create a Treemap Visualisation\n",
    "import plotly.express as px\n",
    "\n",
    "def plot_treemap_improved(df):\n",
    "    # Data preparation\n",
    "    df_tree = df.groupby(['age_group', 'sex', 'diet_group'])['mean_ghgs'].mean().reset_index()\n",
    "    df_tree['display_text'] = df_tree['diet_group']  # Display only the diet group name\n",
    "\n",
    "    # Create the treemap\n",
    "    fig = px.treemap(\n",
    "        df_tree,\n",
    "        path=['age_group', 'sex', 'display_text'],\n",
    "        values='mean_ghgs',\n",
    "        color='mean_ghgs',\n",
    "        color_continuous_scale='Reds',  # Single color gradient\n",
    "        hover_data={'mean_ghgs': ':.2f'},\n",
    "        title='Greenhouse Gas Emissions by Diet Group, Age, and Sex<br><sup>Mean GHG Emissions (kg CO₂e per capita)</sup>'\n",
    "    )\n",
    "\n",
    "    # Adjust labels and layout\n",
    "    fig.update_traces(\n",
    "        texttemplate='<b>%{label}</b>',\n",
    "        textposition='middle center',\n",
    "        insidetextfont=dict(size=10),\n",
    "        hovertemplate=(\n",
    "            '<b>%{parent}</b><br>'\n",
    "            'Diet Group: %{label}<br>'\n",
    "            'GHG Emissions: <b>%{color:.2f} kg CO₂e</b>'\n",
    "        )\n",
    "    )\n",
    "    \n",
    "    fig.update_layout(\n",
    "        margin=dict(t=90, l=50, r=120, b=50),\n",
    "        coloraxis_colorbar=dict(title=\"GHG (kg CO₂e)\", x=1.0, y=0.5),\n",
    "        height=800,\n",
    "        width=1100\n",
    "    )\n",
    "    \n",
    "    fig.show()\n",
    "\n",
    "# Call the function\n",
    "plot_treemap_improved(df)\n"
   ]
  },
  {
   "cell_type": "code",
   "execution_count": null,
   "id": "6cef5cc8-b489-49c9-a0b6-916baba0c3a4",
   "metadata": {},
   "outputs": [],
   "source": []
  },
  {
   "cell_type": "code",
   "execution_count": null,
   "id": "002b189a-8589-44bf-99cc-c596ce5d3494",
   "metadata": {},
   "outputs": [],
   "source": []
  }
 ],
 "metadata": {
  "kernelspec": {
   "display_name": "Python 3 (ipykernel)",
   "language": "python",
   "name": "python3"
  },
  "language_info": {
   "codemirror_mode": {
    "name": "ipython",
    "version": 3
   },
   "file_extension": ".py",
   "mimetype": "text/x-python",
   "name": "python",
   "nbconvert_exporter": "python",
   "pygments_lexer": "ipython3",
   "version": "3.12.3"
  }
 },
 "nbformat": 4,
 "nbformat_minor": 5
}
